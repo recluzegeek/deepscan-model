{
 "cells": [
  {
   "cell_type": "code",
   "execution_count": 1,
   "metadata": {},
   "outputs": [],
   "source": [
    "import torch\n",
    "import numpy as np\n",
    "import pandas as pd\n",
    "import matplotlib.pyplot as plt"
   ]
  },
  {
   "cell_type": "code",
   "execution_count": 2,
   "metadata": {},
   "outputs": [
    {
     "name": "stdout",
     "output_type": "stream",
     "text": [
      "2.3.1+cu121\n"
     ]
    }
   ],
   "source": [
    "print(torch.__version__)"
   ]
  },
  {
   "cell_type": "code",
   "execution_count": 3,
   "metadata": {},
   "outputs": [
    {
     "name": "stdout",
     "output_type": "stream",
     "text": [
      "tensor(7)\n"
     ]
    }
   ],
   "source": [
    "scalar = torch.tensor(7)\n",
    "print(scalar)"
   ]
  },
  {
   "cell_type": "code",
   "execution_count": 5,
   "metadata": {},
   "outputs": [
    {
     "data": {
      "text/plain": [
       "torch.Size([])"
      ]
     },
     "execution_count": 5,
     "metadata": {},
     "output_type": "execute_result"
    }
   ],
   "source": [
    "scalar.ndim\n",
    "# scalar.shape"
   ]
  },
  {
   "cell_type": "code",
   "execution_count": 10,
   "metadata": {},
   "outputs": [],
   "source": [
    "vector = torch.tensor([12, 12])"
   ]
  },
  {
   "cell_type": "code",
   "execution_count": 11,
   "metadata": {},
   "outputs": [
    {
     "data": {
      "text/plain": [
       "tensor([12, 12])"
      ]
     },
     "execution_count": 11,
     "metadata": {},
     "output_type": "execute_result"
    }
   ],
   "source": [
    "vector"
   ]
  },
  {
   "cell_type": "code",
   "execution_count": 19,
   "metadata": {},
   "outputs": [
    {
     "name": "stdout",
     "output_type": "stream",
     "text": [
      "3\n",
      "torch.Size([2, 3, 2])\n"
     ]
    }
   ],
   "source": [
    "matrix = torch.tensor([[[12, 12], [24, 24], [36, 36]], [[11, 11], [22, 22], [33, 33]]])\n",
    "\n",
    "print(matrix.ndim)\n",
    "print(matrix.shape)\n"
   ]
  },
  {
   "cell_type": "code",
   "execution_count": 22,
   "metadata": {},
   "outputs": [
    {
     "name": "stdout",
     "output_type": "stream",
     "text": [
      "tensor([[[0.1051, 0.0087, 0.7858, 0.6308],\n",
      "         [0.4019, 0.0969, 0.7186, 0.5137],\n",
      "         [0.3487, 0.8105, 0.4807, 0.2771]],\n",
      "\n",
      "        [[0.5964, 0.5032, 0.4071, 0.0207],\n",
      "         [0.9868, 0.0746, 0.7032, 0.2057],\n",
      "         [0.4621, 0.8119, 0.6380, 0.7794]],\n",
      "\n",
      "        [[0.7961, 0.1242, 0.0385, 0.9782],\n",
      "         [0.2657, 0.0592, 0.7694, 0.3006],\n",
      "         [0.7948, 0.4880, 0.0456, 0.8529]]])\n"
     ]
    }
   ],
   "source": [
    "## Create a random tensor of shape 2, 3\n",
    "random_tensor = torch.rand(3, 3, 4)\n",
    "\n",
    "print(random_tensor)"
   ]
  },
  {
   "cell_type": "code",
   "execution_count": 23,
   "metadata": {},
   "outputs": [
    {
     "name": "stdout",
     "output_type": "stream",
     "text": [
      "torch.Size([224, 244, 3]) 3\n",
      "tensor([[[0.2063, 0.3403, 0.3635],\n",
      "         [0.9222, 0.4341, 0.9913],\n",
      "         [0.9736, 0.1622, 0.9846],\n",
      "         ...,\n",
      "         [0.4362, 0.5926, 0.6084],\n",
      "         [0.0177, 0.0356, 0.7856],\n",
      "         [0.9858, 0.1135, 0.4743]],\n",
      "\n",
      "        [[0.3567, 0.8263, 0.7682],\n",
      "         [0.1284, 0.8582, 0.9921],\n",
      "         [0.8207, 0.9448, 0.6044],\n",
      "         ...,\n",
      "         [0.7692, 0.2084, 0.7781],\n",
      "         [0.5375, 0.9596, 0.0645],\n",
      "         [0.1319, 0.2403, 0.3646]],\n",
      "\n",
      "        [[0.7101, 0.4097, 0.8942],\n",
      "         [0.1127, 0.7162, 0.8745],\n",
      "         [0.6486, 0.9723, 0.9964],\n",
      "         ...,\n",
      "         [0.5188, 0.5122, 0.5689],\n",
      "         [0.4293, 0.5327, 0.8224],\n",
      "         [0.8949, 0.3063, 0.6819]],\n",
      "\n",
      "        ...,\n",
      "\n",
      "        [[0.6949, 0.0302, 0.7713],\n",
      "         [0.2145, 0.7107, 0.7564],\n",
      "         [0.5564, 0.6629, 0.5588],\n",
      "         ...,\n",
      "         [0.1157, 0.4824, 0.5105],\n",
      "         [0.1164, 0.4013, 0.3873],\n",
      "         [0.4520, 0.8379, 0.5891]],\n",
      "\n",
      "        [[0.4936, 0.0513, 0.6524],\n",
      "         [0.1157, 0.3749, 0.3725],\n",
      "         [0.9476, 0.3705, 0.1579],\n",
      "         ...,\n",
      "         [0.8501, 0.7873, 0.7594],\n",
      "         [0.7273, 0.9252, 0.0630],\n",
      "         [0.8033, 0.7160, 0.8796]],\n",
      "\n",
      "        [[0.9055, 0.0971, 0.4379],\n",
      "         [0.2276, 0.8244, 0.6306],\n",
      "         [0.0637, 0.5479, 0.2810],\n",
      "         ...,\n",
      "         [0.5506, 0.8924, 0.7970],\n",
      "         [0.5736, 0.4571, 0.3086],\n",
      "         [0.7183, 0.0282, 0.8297]]])\n"
     ]
    }
   ],
   "source": [
    "## Create a random image tensor\n",
    "image_tensor = torch.rand(size=(224, 244, 3))\n",
    "print(image_tensor.shape, image_tensor.ndim)\n",
    "print(image_tensor)"
   ]
  },
  {
   "cell_type": "code",
   "execution_count": 28,
   "metadata": {},
   "outputs": [
    {
     "data": {
      "text/plain": [
       "tensor([ 0,  1,  2,  3,  4,  5,  6,  7,  8,  9, 10, 11, 12, 13, 14, 15, 16, 17,\n",
       "        18, 19])"
      ]
     },
     "execution_count": 28,
     "metadata": {},
     "output_type": "execute_result"
    }
   ],
   "source": [
    "torch.arange(20)"
   ]
  },
  {
   "cell_type": "code",
   "execution_count": 35,
   "metadata": {},
   "outputs": [
    {
     "name": "stdout",
     "output_type": "stream",
     "text": [
      "tensor([[0.1080, 0.0476, 0.4296],\n",
      "        [0.1435, 0.0399, 0.8038]])\n",
      "torch.float16\n",
      "torch.float32\n"
     ]
    }
   ],
   "source": [
    "tensor_16 = torch.rand(size=[2, 3], dtype=torch.float16)\n",
    "tensor_32 = torch.rand(size=[2, 3])\n",
    "\n",
    "print(tensor_16 * tensor_32)\n",
    "print(tensor_16.dtype)\n",
    "print(tensor_32.dtype)"
   ]
  },
  {
   "cell_type": "code",
   "execution_count": 43,
   "metadata": {},
   "outputs": [],
   "source": [
    "first_tensor = torch.tensor([[1, 2, 3], [4, 5, 6]])\n",
    "sec_tensor = torch.tensor([[4, 5, 6], [1, 2, 3], [4, 5, 8]])\n",
    "\n",
    "# first_tensor * sec_tensor\n"
   ]
  },
  {
   "cell_type": "code",
   "execution_count": 44,
   "metadata": {},
   "outputs": [
    {
     "data": {
      "text/plain": [
       "tensor([[400, 500, 600],\n",
       "        [100, 200, 300],\n",
       "        [400, 500, 800]])"
      ]
     },
     "execution_count": 44,
     "metadata": {},
     "output_type": "execute_result"
    }
   ],
   "source": [
    "first_tensor + 20\n",
    "sec_tensor * 100"
   ]
  },
  {
   "cell_type": "code",
   "execution_count": 46,
   "metadata": {},
   "outputs": [
    {
     "name": "stdout",
     "output_type": "stream",
     "text": [
      "CPU times: total: 0 ns\n",
      "Wall time: 0 ns\n"
     ]
    },
    {
     "data": {
      "text/plain": [
       "tensor([[18, 24, 36],\n",
       "        [45, 60, 87]])"
      ]
     },
     "execution_count": 46,
     "metadata": {},
     "output_type": "execute_result"
    }
   ],
   "source": [
    "%%time\n",
    "torch.matmul(first_tensor, sec_tensor)"
   ]
  },
  {
   "cell_type": "code",
   "execution_count": 47,
   "metadata": {},
   "outputs": [
    {
     "name": "stdout",
     "output_type": "stream",
     "text": [
      "CPU times: total: 0 ns\n",
      "Wall time: 0 ns\n"
     ]
    }
   ],
   "source": [
    "%%time\n",
    "value = 0\n",
    "for i in range(len(first_tensor)):\n",
    "    value += first_tensor[i] * first_tensor[i]"
   ]
  },
  {
   "cell_type": "code",
   "execution_count": 58,
   "metadata": {},
   "outputs": [
    {
     "data": {
      "text/plain": [
       "tensor([[ 1,  2,  3,  4,  5,  6,  7,  8,  9, 10, 11, 12, 13, 14, 15, 16, 17, 18,\n",
       "         19, 20]])"
      ]
     },
     "execution_count": 58,
     "metadata": {},
     "output_type": "execute_result"
    }
   ],
   "source": [
    "reshape_tensor = torch.arange(1, 21)\n",
    "reshape_tensor.reshape(20, 1)\n",
    "reshape_tensor.reshape(20, 1).T"
   ]
  },
  {
   "cell_type": "code",
   "execution_count": 63,
   "metadata": {},
   "outputs": [
    {
     "data": {
      "text/plain": [
       "tensor([[0.2964, 0.8037, 0.2485],\n",
       "        [0.1045, 0.0919, 0.9971]], dtype=torch.float16)"
      ]
     },
     "execution_count": 63,
     "metadata": {},
     "output_type": "execute_result"
    }
   ],
   "source": [
    "tensor_16 * tensor_16"
   ]
  },
  {
   "cell_type": "code",
   "execution_count": 69,
   "metadata": {},
   "outputs": [
    {
     "data": {
      "text/plain": [
       "tensor([[0.5444, 0.8965, 0.4985],\n",
       "        [0.3232, 0.3032, 0.9985]], dtype=torch.float16)"
      ]
     },
     "execution_count": 69,
     "metadata": {},
     "output_type": "execute_result"
    }
   ],
   "source": [
    "tensor_16 @ tensor_16.T\n",
    "tensor_16.reshape(2, 3)\n",
    "tensor_16"
   ]
  },
  {
   "cell_type": "code",
   "execution_count": 71,
   "metadata": {},
   "outputs": [
    {
     "data": {
      "text/plain": [
       "tensor([[0.5444, 0.8965, 0.4985],\n",
       "        [0.3232, 0.3032, 0.9985]], dtype=torch.float16)"
      ]
     },
     "execution_count": 71,
     "metadata": {},
     "output_type": "execute_result"
    }
   ],
   "source": [
    "tensor_16.view(3, 2)\n",
    "tensor_16"
   ]
  },
  {
   "cell_type": "code",
   "execution_count": null,
   "metadata": {},
   "outputs": [],
   "source": []
  },
  {
   "cell_type": "code",
   "execution_count": null,
   "metadata": {},
   "outputs": [],
   "source": []
  },
  {
   "cell_type": "code",
   "execution_count": null,
   "metadata": {},
   "outputs": [],
   "source": [
    "## Exercise"
   ]
  },
  {
   "cell_type": "code",
   "execution_count": 8,
   "metadata": {},
   "outputs": [
    {
     "name": "stdout",
     "output_type": "stream",
     "text": [
      "torch.Size([7, 7])\n",
      "cuda:0\n"
     ]
    }
   ],
   "source": [
    "# Create a random tensor with shape (7, 7).\n",
    "import torch\n",
    "\n",
    "device = 'cuda' if torch.cuda.is_available() else 'cpu'\n",
    "random_tensor = torch.rand([7, 7], device=device)\n",
    "print(random_tensor.shape)\n",
    "print(random_tensor.device)"
   ]
  },
  {
   "cell_type": "code",
   "execution_count": 13,
   "metadata": {},
   "outputs": [
    {
     "name": "stdout",
     "output_type": "stream",
     "text": [
      "cuda\n",
      "cuda:0 cuda:0\n",
      "tensor([[2.0254],\n",
      "        [1.0590],\n",
      "        [1.1065],\n",
      "        [1.7037],\n",
      "        [1.8517],\n",
      "        [1.0966],\n",
      "        [1.7260]], device='cuda:0')\n"
     ]
    }
   ],
   "source": [
    "# Perform a matrix multiplication on the tensor from 2 with another random tensor with shape (1, 7) (hint: you may have to transpose the second tensor).\n",
    "print(device)\n",
    "random_tensor_A = torch.rand([7, 7], device=device)\n",
    "random_tensor_B = torch.rand([1, 7], device=device)\n",
    "print(random_tensor_A.device, random_tensor_B.device)\n",
    "result_tensor = random_tensor @ random_tensor_B.T\n",
    "\n",
    "print(result_tensor)"
   ]
  },
  {
   "cell_type": "code",
   "execution_count": 22,
   "metadata": {},
   "outputs": [
    {
     "name": "stdout",
     "output_type": "stream",
     "text": [
      "Random Number state before setting random seed for Random Tensor A: tensor([42,  0,  0,  ...,  0,  0,  0], dtype=torch.uint8)\n",
      "Random Number Generator State before creating Tensor A: tensor([42,  0,  0,  ...,  0,  0,  0], dtype=torch.uint8)\n",
      "Random Generator State after creating Random Tensor A: tensor([42,  0,  0,  ...,  0,  0,  0], dtype=torch.uint8)\n",
      "Random Number Generator State after creating Random Tensor B: tensor([42,  0,  0,  ...,  0,  0,  0], dtype=torch.uint8)\n",
      "tensor([[1.3354],\n",
      "        [0.9478],\n",
      "        [0.7438],\n",
      "        [1.0571],\n",
      "        [0.9649],\n",
      "        [1.2822],\n",
      "        [1.4935]], device='cuda:0')\n",
      "Random Tensor A: tensor([[0.6130, 0.0101, 0.3984, 0.0403, 0.1563, 0.4825, 0.7362],\n",
      "        [0.4060, 0.5189, 0.2867, 0.2416, 0.9228, 0.8299, 0.0342],\n",
      "        [0.3879, 0.0824, 0.7742, 0.2792, 0.5138, 0.2068, 0.0074],\n",
      "        [0.8750, 0.9682, 0.1201, 0.1972, 0.4503, 0.0511, 0.4892],\n",
      "        [0.9331, 0.3807, 0.0509, 0.2663, 0.6495, 0.2675, 0.1733],\n",
      "        [0.8565, 0.2761, 0.2093, 0.0711, 0.7701, 0.6100, 0.3444],\n",
      "        [0.9852, 0.4692, 0.9203, 0.7127, 0.1052, 0.8138, 0.1092]],\n",
      "       device='cuda:0')\n",
      "Random Tensor B: tensor([[0.6130],\n",
      "        [0.0101],\n",
      "        [0.3984],\n",
      "        [0.0403],\n",
      "        [0.1563],\n",
      "        [0.4825],\n",
      "        [0.7362]], device='cuda:0')\n",
      "Are Tensor A & Tensor B equal? tensor([[ True, False, False, False, False, False, False],\n",
      "        [False, False, False, False, False, False, False],\n",
      "        [False, False, False, False, False, False, False],\n",
      "        [False, False, False, False, False, False, False],\n",
      "        [False, False, False, False, False, False, False],\n",
      "        [False, False, False, False, False, False, False],\n",
      "        [False, False, False, False, False, False, False]], device='cuda:0')\n"
     ]
    }
   ],
   "source": [
    "# Set the random seed to 0 and do exercises 2 & 3 over again.\n",
    "RANDOM_SEED = 42\n",
    "print(f'Random Number state before setting random seed for Random Tensor A: {torch.get_rng_state()}')\n",
    "torch.manual_seed(RANDOM_SEED)\n",
    "print(f'Random Number Generator State before creating Tensor A: {torch.get_rng_state()}')\n",
    "random_tensor_A = torch.rand([7, 7], device=device)\n",
    "print(f'Random Generator State after creating Random Tensor A: {torch.get_rng_state()}')\n",
    "torch.manual_seed(RANDOM_SEED)\n",
    "random_tensor_B = torch.rand([1, 7], device=device).T\n",
    "print(f'Random Number Generator State after creating Random Tensor B: {torch.get_rng_state()}')\n",
    "result_tensor = random_tensor_A @ random_tensor_B\n",
    "print(result_tensor)\n",
    "print(f'Random Tensor A: {random_tensor_A}')\n",
    "print(f'Random Tensor B: {random_tensor_B}')\n",
    "print(f'Are Tensor A & Tensor B equal? {random_tensor_A == random_tensor_B}')"
   ]
  },
  {
   "cell_type": "code",
   "execution_count": 27,
   "metadata": {},
   "outputs": [
    {
     "name": "stdout",
     "output_type": "stream",
     "text": [
      "tensor([[0.2062, 0.6914],\n",
      "        [0.7792, 0.0412],\n",
      "        [0.5324, 0.3734]], device='cuda:0')\n",
      "tensor([[0.6130, 0.0101],\n",
      "        [0.3984, 0.0403],\n",
      "        [0.1563, 0.4825]], device='cuda:0')\n"
     ]
    }
   ],
   "source": [
    "import torch\n",
    "RANDOM_SEED = 77\n",
    "\n",
    "torch.manual_seed(RANDOM_SEED)\n",
    "print(torch.rand([3, 2], device=device))\n",
    "\n",
    "RANDOM_SEED = 42\n",
    "torch.manual_seed(RANDOM_SEED)\n",
    "print(torch.rand([3, 2], device=device))\n",
    "\n",
    "\n"
   ]
  },
  {
   "cell_type": "code",
   "execution_count": 30,
   "metadata": {},
   "outputs": [
    {
     "name": "stdout",
     "output_type": "stream",
     "text": [
      "Maximum value in Tensor A is: 0.9851880669593811\n",
      "Maximum value in Tensor B is: (tensor(0.7362, device='cuda:0'), tensor(0.7362, device='cuda:0'))\n",
      "Minimum value in the Random Tensor is: 0.007366951555013657\n",
      "Minimum value in the Random Tensor B is: 0.010058844462037086\n"
     ]
    }
   ],
   "source": [
    "print(f'Maximum value in Tensor A is: {random_tensor_A.max()}')\n",
    "print(f'Maximum value in Tensor B is: {random_tensor_B.max(), torch.max(random_tensor_B)}')\n",
    "\n",
    "print(f'Minimum value in the Random Tensor is: {random_tensor_A.min()}')\n",
    "print(f'Minimum value in the Random Tensor B is: {random_tensor_B.min()}')"
   ]
  },
  {
   "cell_type": "code",
   "execution_count": 38,
   "metadata": {},
   "outputs": [
    {
     "name": "stdout",
     "output_type": "stream",
     "text": [
      "Shape of the new Random Tensor before squeezing a dimension is: torch.Size([1, 1, 1, 10])\n",
      "Shape of the new Random Tensor after squeezing the tensor is: torch.Size([10])\n"
     ]
    }
   ],
   "source": [
    "new_random_tensor = torch.rand([1, 1, 1, 10], device=device)\n",
    "\n",
    "print(f'Shape of the new Random Tensor before squeezing a dimension is: {new_random_tensor.shape}')\n",
    "\n",
    "new_random_tensor = new_random_tensor.squeeze()\n",
    "\n",
    "print(f'Shape of the new Random Tensor after squeezing the tensor is: {new_random_tensor.shape}')"
   ]
  },
  {
   "cell_type": "code",
   "execution_count": 41,
   "metadata": {},
   "outputs": [
    {
     "name": "stdout",
     "output_type": "stream",
     "text": [
      "tensor(0, device='cuda:0')\n",
      "tensor([ 4.9988, -5.7437], device='cuda:0')\n"
     ]
    }
   ],
   "source": [
    "import torch\n",
    "\n",
    "output = torch.tensor([4.9988, -5.7437], device='cuda')\n",
    "print(output.argmax())\n",
    "\n",
    "print(output)"
   ]
  },
  {
   "cell_type": "code",
   "execution_count": 44,
   "metadata": {},
   "outputs": [
    {
     "data": {
      "text/plain": [
       "torch.Size([3, 224, 224])"
      ]
     },
     "execution_count": 44,
     "metadata": {},
     "output_type": "execute_result"
    }
   ],
   "source": [
    "image_tensor = torch.rand([3, 224, 224])\n",
    "image_tensor.shape"
   ]
  }
 ],
 "metadata": {
  "kernelspec": {
   "display_name": "new_env",
   "language": "python",
   "name": "python3"
  },
  "language_info": {
   "codemirror_mode": {
    "name": "ipython",
    "version": 3
   },
   "file_extension": ".py",
   "mimetype": "text/x-python",
   "name": "python",
   "nbconvert_exporter": "python",
   "pygments_lexer": "ipython3",
   "version": "3.11.9"
  }
 },
 "nbformat": 4,
 "nbformat_minor": 2
}
