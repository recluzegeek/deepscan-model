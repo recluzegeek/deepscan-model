{
 "cells": [
  {
   "cell_type": "code",
   "execution_count": 1,
   "metadata": {},
   "outputs": [],
   "source": [
    "import dlib\n",
    "import cv2\n",
    "import os"
   ]
  },
  {
   "cell_type": "code",
   "execution_count": 4,
   "metadata": {},
   "outputs": [],
   "source": [
    "input_dir = \"E:/Deepscan/testing_frames\"\n",
    "output_dir = \"E:/Deepscan/output_faces\"\n",
    "# input_dir = \"Z:/Deepscan/testing_frames\"\n",
    "# output_dir = \"Z:/Deepscan/output_faces\""
   ]
  },
  {
   "cell_type": "code",
   "execution_count": 7,
   "metadata": {},
   "outputs": [],
   "source": [
    "def dlib_extract_faces(frame_dir, output_dir):\n",
    "    for frame in os.listdir(frame_dir):\n",
    "        if frame.endswith('.jpg'):\n",
    "            # load the image\n",
    "            frame_path = os.path.join(frame_dir, frame)\n",
    "            frame = cv2.imread(frame_path)\n",
    "            # Convert the image to grayscale (Dlib works with grayscale images)\n",
    "            gray = cv2.cvtColor(frame, cv2.COLOR_BGR2GRAY)\n",
    "            detector = dlib.get_frontal_face_detector()\n",
    "            faces = detector(gray)\n",
    "            for face in faces:\n",
    "                x = face.left()\n",
    "                y = face.top()\n",
    "                w = face.right() - x\n",
    "                h = face.bottom() - y\n",
    "                face_img = frame[y:y+h, x:x+w]\n",
    "                cv2.imwrite(os.path.join(output_dir, f'{os.path.basename(frame_path)}_face.jpg'), face_img)\n",
    "\n",
    "# Extract faces from the frames\n",
    "dlib_extract_faces(input_dir, output_dir)\n"
   ]
  }
 ],
 "metadata": {
  "kernelspec": {
   "display_name": "deepfake_venv",
   "language": "python",
   "name": "python3"
  },
  "language_info": {
   "codemirror_mode": {
    "name": "ipython",
    "version": 3
   },
   "file_extension": ".py",
   "mimetype": "text/x-python",
   "name": "python",
   "nbconvert_exporter": "python",
   "pygments_lexer": "ipython3",
   "version": "3.11.9"
  }
 },
 "nbformat": 4,
 "nbformat_minor": 2
}
